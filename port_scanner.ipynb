{
 "cells": [
  {
   "cell_type": "code",
   "execution_count": 2,
   "id": "6156a15e-ecaa-4d62-a990-0f02131edf7c",
   "metadata": {},
   "outputs": [
    {
     "name": "stdout",
     "output_type": "stream",
     "text": [
      "Scanning tryhackme.com (104.22.55.228)\n",
      "Port 80: Open\n",
      "Port 443: Open\n"
     ]
    }
   ],
   "source": [
    "import socket\n",
    "\n",
    "def port_scanner(target, ports):\n",
    "    code = socket.gethostbyname(target)\n",
    "    print(f\"Scanning {target} ({code})\")\n",
    "\n",
    "    for port in ports:\n",
    "        sock = socket.socket(socket.AF_INET, socket.SOCK_STREAM)\n",
    "        socket.setdefaulttimeout(1)\n",
    "        result = sock.connect_ex((code, port))\n",
    "        if result == 0:\n",
    "            print(f\"Port {port}: Open\")\n",
    "\n",
    "        sock.close()\n",
    "\n",
    "target = \"tryhackme.com\"\n",
    "ports = [22, 80, 443, 8000]\n",
    "port_scanner(target, ports)"
   ]
  },
  {
   "cell_type": "code",
   "execution_count": null,
   "id": "1678c6d1-467f-4c5c-b536-7cdc579ebcac",
   "metadata": {},
   "outputs": [],
   "source": []
  }
 ],
 "metadata": {
  "kernelspec": {
   "display_name": "Python 3 (ipykernel)",
   "language": "python",
   "name": "python3"
  },
  "language_info": {
   "codemirror_mode": {
    "name": "ipython",
    "version": 3
   },
   "file_extension": ".py",
   "mimetype": "text/x-python",
   "name": "python",
   "nbconvert_exporter": "python",
   "pygments_lexer": "ipython3",
   "version": "3.11.7"
  }
 },
 "nbformat": 4,
 "nbformat_minor": 5
}
